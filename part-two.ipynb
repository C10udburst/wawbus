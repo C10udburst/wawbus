{
 "nbformat": 4,
 "nbformat_minor": 0,
 "metadata": {
  "colab": {
   "provenance": []
  },
  "kernelspec": {
   "name": "python3",
   "display_name": "Python 3"
  },
  "language_info": {
   "name": "python"
  }
 },
 "cells": [
  {
   "cell_type": "code",
   "execution_count": null,
   "metadata": {
    "cellView": "form",
    "id": "L-iGiKQL9y7O"
   },
   "outputs": [],
   "source": [
    "# @title Install dependencies\n",
    "!pip install jupyterlab-widgets geopandas geoplot\n",
    "!pip install matplotlib --upgrade"
   ]
  },
  {
   "cell_type": "code",
   "outputs": [],
   "source": [
    "# @title Select the whl file for the wawbus package\n",
    "from ipywidgets import FileUpload\n",
    "from IPython.display import display\n",
    "upload = FileUpload(accept='.whl', multiple=False)\n",
    "display(upload)"
   ],
   "metadata": {
    "cellView": "form",
    "id": "d74eb36082df3729"
   },
   "execution_count": null
  },
  {
   "cell_type": "code",
   "outputs": [],
   "source": [
    "# @title upload whl file\n",
    "for uploaded_filename in upload.value:\n",
    "  content = upload.value[uploaded_filename]['content']\n",
    "  with open(uploaded_filename, \"w+b\") as f:\n",
    "    f.write(content)"
   ],
   "metadata": {
    "cellView": "form",
    "id": "be888209f3911555"
   },
   "execution_count": null
  },
  {
   "cell_type": "code",
   "outputs": [],
   "source": [
    "# @title Install the wawbus package\n",
    "!pip install {list(upload.value.keys())[0]}"
   ],
   "metadata": {
    "cellView": "form",
    "id": "7482d89007f9883d"
   },
   "execution_count": null
  },
  {
   "cell_type": "code",
   "execution_count": null,
   "metadata": {
    "collapsed": true,
    "id": "initial_id"
   },
   "outputs": [],
   "source": [
    "from wawbus import WawBus\n",
    "from wawbus.constants import M_TO_KM, CRS\n",
    "\n",
    "import numpy as np\n",
    "import pandas as pd\n",
    "import geopandas as gpd\n",
    "import geoplot.crs as gcrs\n",
    "import matplotlib.pyplot as plt\n",
    "import matplotlib.ticker as mticker\n",
    "import matplotlib as mpl\n",
    "import geoplot as gplt\n",
    "from shapely.geometry import Point, LineString\n",
    "\n",
    "from ipywidgets import Dropdown, Text, VBox, IntSlider"
   ]
  },
  {
   "cell_type": "code",
   "outputs": [],
   "source": [
    "# @title Main api configuration\n",
    "dataset = Dropdown(options=['20240207-66k', '20240208-140k', '20240209-1M', 'None'], description='Prefetched dataset')\n",
    "api_key = Text(description='API key (optional)', placeholder='Enter your API key')\n",
    "collection = IntSlider(description='How many data points to collect. If zero, only the prefetched dataset will be used', min=0, step=1)\n",
    "display(VBox([dataset, api_key, collection]))"
   ],
   "metadata": {
    "id": "a30d4429b6a06858"
   },
   "execution_count": null
  },
  {
   "cell_type": "code",
   "outputs": [],
   "source": [
    "api = WawBus(apikey=api_key.value, dataset=dataset.value if dataset.value != 'None' else None)"
   ],
   "metadata": {
    "id": "ce95ee460316b31c"
   },
   "execution_count": null
  },
  {
   "cell_type": "code",
   "outputs": [],
   "source": [
    "if collection.value > 0:\n",
    "    api.collect_positions(collection.value)"
   ],
   "metadata": {
    "id": "f8ab4d96f12c677b"
   },
   "execution_count": null
  },
  {
   "cell_type": "code",
   "outputs": [],
   "source": [
    "api.dataset.head()"
   ],
   "metadata": {
    "id": "a1f01aa6da2a27bc"
   },
   "execution_count": null
  },
  {
   "cell_type": "code",
   "source": [
    "df = api.calculate_late()\n",
    "df.head()"
   ],
   "metadata": {
    "id": "nAOiGcss-M7O"
   },
   "execution_count": null,
   "outputs": []
  },
  {
   "cell_type": "code",
   "source": [
    "# @title remove entries where distance to stop is > 0.8km as it is unlikely to be a valid match\n",
    "\n",
    "labels = ['keeping', 'removed']\n",
    "df['dist'].apply(lambda x: 1 if x > 0.8 else 0).value_counts().plot.pie(autopct='%1.1f%%', labels=labels)\n",
    "plt.ylabel('')\n",
    "plt.title('pie graph of invalid stop matches')\n",
    "plt.show()\n",
    "\n",
    "df = df[df.dist <= 0.8]"
   ],
   "metadata": {
    "id": "C9J7g8kBl77q"
   },
   "execution_count": null,
   "outputs": []
  },
  {
   "cell_type": "code",
   "source": [
    "gdf = gpd.GeoDataFrame(df, geometry=gpd.points_from_xy(df.Lon, df.Lat, crs=CRS))\n",
    "gdf.head()"
   ],
   "metadata": {
    "id": "F-opT4DOlQU-"
   },
   "execution_count": null,
   "outputs": []
  },
  {
   "cell_type": "code",
   "source": [
    "wawmap = gpd.read_file('https://raw.githubusercontent.com/C10udburst/wawbus-data/master/warszawa-dzielnice.geojson')"
   ],
   "metadata": {
    "id": "36DP-3Ojlcw0"
   },
   "execution_count": null,
   "outputs": []
  },
  {
   "cell_type": "code",
   "source": [
    "late_map = gpd.sjoin(left_df=gdf, right_df=wawmap[['name', 'geometry']], how=\"left\", predicate=\"intersects\")\n",
    "late_map = late_map.drop(columns=['index_right'])\n",
    "late_map.head()"
   ],
   "metadata": {
    "id": "M1ghiCUjmuv5"
   },
   "execution_count": null,
   "outputs": []
  },
  {
   "cell_type": "code",
   "source": [
    "# @title Interactive map of late buses and their respective stops\n",
    "def make_line(row):\n",
    "  return LineString([\n",
    "      Point(row['Lon'], row['Lat']),\n",
    "      Point(row['dlug_geo'], row['szer_geo'])\n",
    "  ])\n",
    "\n",
    "df1 = df.copy(deep=False)\n",
    "df1['Time'] = df1['Time'].astype('str')\n",
    "df1['czas'] = df1['czas'].astype('str')\n",
    "df1['geometry'] = df1.apply(make_line, axis='columns')\n",
    "df1 = df1.head(300)\n",
    "\n",
    "gpd.GeoDataFrame(df1, geometry='geometry', crs=CRS)[['geometry','Lines', 'trasa', 'nr_zespolu', 'dist']].explore()"
   ],
   "metadata": {
    "id": "2TWR0FwpqC6Q"
   },
   "execution_count": null,
   "outputs": []
  },
  {
   "cell_type": "code",
   "source": [
    "# @title late bus heatmap\n",
    "mpl.rcParams['figure.dpi'] = 200\n",
    "\n",
    "# we filter to only use entries within Warsaw\n",
    "late_warsaw = late_map.dropna().geometry\n",
    "\n",
    "webmap = gplt.webmap(late_warsaw, projection=gcrs.WebMercator())\n",
    "ax = gplt.polyplot(wawmap, projection=gcrs.WebMercator(), zorder=1, ax=webmap)\n",
    "heatmap = gplt.kdeplot(late_warsaw, cmap='Reds', shade=True, ax=ax, projection=gcrs.WebMercator(), alpha=0.4)\n",
    "plt.title(\"late bus heatmap\")\n",
    "plt.show()\n",
    "\n",
    "mpl.rcParams['figure.dpi'] = 100"
   ],
   "metadata": {
    "cellView": "form",
    "id": "EbDb1dHim87y"
   },
   "execution_count": null,
   "outputs": []
  },
  {
   "cell_type": "code",
   "source": [
    "# @title late bus by district\n",
    "late_map.dropna().groupby('name')['dist'].count()"
   ],
   "metadata": {
    "cellView": "form",
    "id": "9A9DN-qEnJgI"
   },
   "execution_count": null,
   "outputs": []
  },
  {
   "cell_type": "code",
   "source": [
    "# @title late per district pie plot\n",
    "late_map[late_map.name != 'Warszawa'].dropna().groupby('name')['dist'].count().plot.pie(autopct='%1.1f%%')\n",
    "plt.title(\"late per district pie plot\")\n",
    "plt.ylabel('')\n",
    "plt.show()"
   ],
   "metadata": {
    "cellView": "form",
    "id": "wWgWc1Sxn7Gh"
   },
   "execution_count": null,
   "outputs": []
  },
  {
   "cell_type": "code",
   "source": [
    "# @title late instances per hour and minute top 20 entries\n",
    "\n",
    "ax = df.groupby(by=[df.Time.map(lambda x : x.hour),\n",
    "                       df.Time.map(lambda x : x.minute)])['dist'].count().sort_values(ascending=False).head(20).plot.barh()\n",
    "\n",
    "ax.bar_label(ax.containers[0])\n",
    "\n",
    "plt.ylabel(\"(hour, minute)\")\n",
    "plt.title(\"late instances by hour and minute\")\n",
    "plt.show()"
   ],
   "metadata": {
    "cellView": "form",
    "id": "uKmB8bSfosVA"
   },
   "execution_count": null,
   "outputs": []
  },
  {
   "cell_type": "code",
   "source": [
    "# @title late instances by line number top 17 entries\n",
    "\n",
    "ax = df.groupby('Lines')['dist'].count().sort_values(ascending=False).head(17).plot.barh()\n",
    "\n",
    "ax.bar_label(ax.containers[0])\n",
    "\n",
    "plt.title(\"late instances by line number top 17 entries\")\n",
    "plt.show()"
   ],
   "metadata": {
    "cellView": "form",
    "id": "2pvJa0_DpZqY"
   },
   "execution_count": null,
   "outputs": []
  },
  {
   "cell_type": "code",
   "source": [
    "# @title late instances by route number top 17 entries\n",
    "\n",
    "ax = df.groupby('trasa')['dist'].count().sort_values(ascending=False).head(17).plot.barh()\n",
    "\n",
    "ax.bar_label(ax.containers[0])\n",
    "\n",
    "plt.title(\"late instances by route number top 17 entries\")\n",
    "plt.show()"
   ],
   "metadata": {
    "cellView": "form",
    "id": "19u0kTnVp7cr"
   },
   "execution_count": null,
   "outputs": []
  }
 ]
}
