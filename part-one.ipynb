{
  "cells": [
    {
      "cell_type": "code",
      "outputs": [],
      "source": [
        "# @title Install dependencies\n",
        "!pip install jupyterlab-widgets geopandas geoplot\n",
        "!pip install matplotlib --upgrade"
      ],
      "metadata": {
        "id": "92650646205388c",
        "cellView": "form"
      },
      "id": "92650646205388c",
      "execution_count": null
    },
    {
      "cell_type": "code",
      "outputs": [],
      "source": [
        "# @title Select the whl file for the wawbus package\n",
        "from ipywidgets import FileUpload\n",
        "from IPython.display import display\n",
        "upload = FileUpload(accept='.whl', multiple=False)\n",
        "display(upload)"
      ],
      "metadata": {
        "cellView": "form",
        "id": "d74eb36082df3729"
      },
      "id": "d74eb36082df3729",
      "execution_count": null
    },
    {
      "cell_type": "code",
      "outputs": [],
      "source": [
        "# @title upload whl file\n",
        "for uploaded_filename in upload.value:\n",
        "  content = upload.value[uploaded_filename]['content']\n",
        "  with open(uploaded_filename, \"w+b\") as f:\n",
        "    f.write(content)"
      ],
      "metadata": {
        "cellView": "form",
        "id": "be888209f3911555"
      },
      "id": "be888209f3911555",
      "execution_count": null
    },
    {
      "cell_type": "code",
      "outputs": [],
      "source": [
        "# @title Install the wawbus package\n",
        "!pip install {list(upload.value.keys())[0]}"
      ],
      "metadata": {
        "cellView": "form",
        "id": "7482d89007f9883d"
      },
      "id": "7482d89007f9883d",
      "execution_count": null
    },
    {
      "cell_type": "code",
      "execution_count": null,
      "id": "initial_id",
      "metadata": {
        "collapsed": true,
        "id": "initial_id"
      },
      "outputs": [],
      "source": [
        "from wawbus import WawBus\n",
        "from wawbus.constants import MAX_SPEED, CRS\n",
        "\n",
        "import numpy as np\n",
        "import pandas as pd\n",
        "import geopandas as gpd\n",
        "import geoplot.crs as gcrs\n",
        "import matplotlib.pyplot as plt\n",
        "import matplotlib.ticker as mticker\n",
        "import matplotlib as mpl\n",
        "import geoplot as gplt\n",
        "\n",
        "from ipywidgets import Dropdown, Text, VBox, IntSlider"
      ]
    },
    {
      "cell_type": "code",
      "outputs": [],
      "source": [
        "# @title Main api configuration\n",
        "dataset = Dropdown(options=['20240207-66k', '20240208-140k', '20240209-1M', 'None'], description='Prefetched dataset')\n",
        "api_key = Text(description='API key (optional)', placeholder='Enter your API key')\n",
        "collection = IntSlider(description='How many data points to collect. If zero, only the prefetched dataset will be used', min=0, step=1)\n",
        "display(VBox([dataset, api_key, collection]))"
      ],
      "metadata": {
        "cellView": "form",
        "id": "a30d4429b6a06858"
      },
      "id": "a30d4429b6a06858",
      "execution_count": null
    },
    {
      "cell_type": "code",
      "outputs": [],
      "source": [
        "api = WawBus(apikey=api_key.value, dataset=dataset.value if dataset.value != 'None' else None)"
      ],
      "metadata": {
        "id": "ce95ee460316b31c"
      },
      "id": "ce95ee460316b31c",
      "execution_count": null
    },
    {
      "cell_type": "code",
      "outputs": [],
      "source": [
        "if collection.value > 0:\n",
        "    api.collect_positions(collection.value)"
      ],
      "metadata": {
        "id": "f8ab4d96f12c677b"
      },
      "id": "f8ab4d96f12c677b",
      "execution_count": null
    },
    {
      "cell_type": "code",
      "outputs": [],
      "source": [
        "api.dataset.head()"
      ],
      "metadata": {
        "id": "a1f01aa6da2a27bc"
      },
      "id": "a1f01aa6da2a27bc",
      "execution_count": null
    },
    {
      "cell_type": "code",
      "outputs": [],
      "source": [
        "df = api.calculate_speed()\n",
        "df.head()"
      ],
      "metadata": {
        "id": "56d68b7d25b332c2"
      },
      "id": "56d68b7d25b332c2",
      "execution_count": null
    },
    {
      "cell_type": "code",
      "outputs": [],
      "source": [
        "gdf = gpd.GeoDataFrame(df, geometry=gpd.points_from_xy(df.Lon, df.Lat, crs=CRS))\n",
        "gdf.head()"
      ],
      "metadata": {
        "id": "3642eafe2142236a"
      },
      "id": "3642eafe2142236a",
      "execution_count": null
    },
    {
      "cell_type": "code",
      "outputs": [],
      "source": [
        "speeding = gdf[(gdf.Speed > 50)]"
      ],
      "metadata": {
        "id": "acc8ff29a8c0a41f"
      },
      "id": "acc8ff29a8c0a41f",
      "execution_count": null
    },
    {
      "cell_type": "code",
      "source": [
        "# @title pie graph of invalid speed (>MAX_SPEED)\n",
        "labels = ['valid speed', 'invalid speed']\n",
        "speeding['Speed'].apply(lambda x: 1 if x > MAX_SPEED else 0).value_counts().plot.pie(autopct='%1.1f%%', labels=labels)\n",
        "plt.ylabel('')\n",
        "plt.title('pie graph of invalid speed (>MAX_SPEED)')\n",
        "plt.show()"
      ],
      "metadata": {
        "cellView": "form",
        "id": "OM3z0Zqf4mql"
      },
      "id": "OM3z0Zqf4mql",
      "execution_count": null,
      "outputs": []
    },
    {
      "cell_type": "code",
      "source": [
        "# @title removal of invalid speed entries\n",
        "speeding = speeding[speeding.Speed <= MAX_SPEED]"
      ],
      "metadata": {
        "cellView": "form",
        "id": "GBlHvenM5_ad"
      },
      "id": "GBlHvenM5_ad",
      "execution_count": null,
      "outputs": []
    },
    {
      "cell_type": "code",
      "source": [
        "# @title 3250 entries of >50km/h interactive map\n",
        "speeding.head(3250)[['Speed', 'geometry', 'VehicleNumber', 'Lines']].explore(\n",
        "    column='Speed',\n",
        "    style_kwds={\"style_function\":lambda x: {\"radius\":x[\"properties\"][\"Speed\"]/5 - 4}}\n",
        ")"
      ],
      "metadata": {
        "id": "DKFkAHNqkTxy",
        "cellView": "form"
      },
      "id": "DKFkAHNqkTxy",
      "execution_count": null,
      "outputs": []
    },
    {
      "cell_type": "code",
      "source": [
        "wawmap = gpd.read_file('https://raw.githubusercontent.com/C10udburst/wawbus-data/master/warszawa-dzielnice.geojson')"
      ],
      "metadata": {
        "id": "FgZOtuacqxi3"
      },
      "id": "FgZOtuacqxi3",
      "execution_count": null,
      "outputs": []
    },
    {
      "cell_type": "code",
      "outputs": [],
      "source": [
        "speed_map = gpd.sjoin(left_df=speeding, right_df=wawmap[['name', 'geometry']], how=\"left\", predicate=\"intersects\")\n",
        "speed_map = speed_map.drop(columns=['index_right'])\n",
        "speed_map.head()"
      ],
      "metadata": {
        "id": "22a6fbc3590f41b7"
      },
      "id": "22a6fbc3590f41b7",
      "execution_count": null
    },
    {
      "cell_type": "code",
      "outputs": [],
      "source": [
        "# @title >50km/h heatmap\n",
        "mpl.rcParams['figure.dpi'] = 200\n",
        "\n",
        "# we filter to only use entries within Warsaw\n",
        "speeding_warsaw = speed_map.dropna().geometry\n",
        "\n",
        "webmap = gplt.webmap(speeding_warsaw, projection=gcrs.WebMercator())\n",
        "ax = gplt.polyplot(wawmap, projection=gcrs.WebMercator(), zorder=1, ax=webmap)\n",
        "heatmap = gplt.kdeplot(speeding_warsaw, cmap='Reds', shade=True, ax=ax, projection=gcrs.WebMercator(), alpha=0.4)\n",
        "plt.title(\">50km/h heatmap\")\n",
        "plt.show()\n",
        "\n",
        "mpl.rcParams['figure.dpi'] = 100"
      ],
      "metadata": {
        "cellView": "form",
        "id": "f644ce311410405f"
      },
      "id": "f644ce311410405f",
      "execution_count": null
    },
    {
      "cell_type": "code",
      "source": [
        "# @title >50 km/h per district counts\n",
        "speed_map.dropna().groupby('name')['Speed'].count()"
      ],
      "metadata": {
        "cellView": "form",
        "id": "ZYcZnOcmdbrG"
      },
      "id": "ZYcZnOcmdbrG",
      "execution_count": null,
      "outputs": []
    },
    {
      "cell_type": "code",
      "source": [
        "# @title >50 km/h per district pie plot\n",
        "speed_map[speed_map.name != 'Warszawa'].dropna().groupby('name')['Speed'].count().plot.pie(autopct='%1.1f%%')\n",
        "plt.title(\">50 km/h per district pie plot\")\n",
        "plt.ylabel('')\n",
        "plt.show()"
      ],
      "metadata": {
        "id": "sJ56K2PKrQJr",
        "cellView": "form"
      },
      "id": "sJ56K2PKrQJr",
      "execution_count": null,
      "outputs": []
    },
    {
      "cell_type": "code",
      "source": [
        "# @title speed histogram for >50km/h\n",
        "speed_map.dropna().plot.hist(column='Speed', bins=20)\n",
        "try:\n",
        "  plt.avxline(speed_map.dropna().mean(), linestyle='dashed', linewidth=1)\n",
        "except AttributeError:\n",
        "  pass # ignore old matplotlib error\n",
        "plt.title(\"speed histogram for >50km/h\")\n",
        "plt.show()"
      ],
      "metadata": {
        "id": "TukGYqo2rWYh",
        "cellView": "form"
      },
      "id": "TukGYqo2rWYh",
      "execution_count": null,
      "outputs": []
    },
    {
      "cell_type": "code",
      "source": [
        "# @title >50km/h instances per hour and minute top 20 entries\n",
        "\n",
        "ax = speeding.groupby(by=[speeding.Time.map(lambda x : x.hour),\n",
        "                       speeding.Time.map(lambda x : x.minute)])['Speed'].count().sort_values(ascending=False).head(20).plot.barh()\n",
        "\n",
        "ax.bar_label(ax.containers[0])\n",
        "\n",
        "plt.ylabel(\"(hour, minute)\")\n",
        "plt.title(\">50km/h instances by hour and minute\")\n",
        "plt.show()"
      ],
      "metadata": {
        "cellView": "form",
        "id": "6PMOYl8reael"
      },
      "id": "6PMOYl8reael",
      "execution_count": null,
      "outputs": []
    },
    {
      "cell_type": "code",
      "source": [
        "# @title >50km/h instances by line number top 15 entries\n",
        "\n",
        "ax = speeding.groupby('Lines')['Speed'].count().sort_values(ascending=False).head(15).plot.barh()\n",
        "\n",
        "ax.bar_label(ax.containers[0])\n",
        "\n",
        "plt.title(\">50km/h instances by line number top 15 entries\")\n",
        "plt.show()"
      ],
      "metadata": {
        "id": "2n-8_laTgCfN",
        "cellView": "form"
      },
      "id": "2n-8_laTgCfN",
      "execution_count": null,
      "outputs": []
    },
    {
      "cell_type": "code",
      "source": [
        "# @title percentage of buses >50km/h by district\n",
        "\n",
        "all_map = gpd.sjoin(left_df=gdf, right_df=wawmap[['name', 'geometry']], how=\"left\", predicate=\"intersects\")\n",
        "all_map = all_map.drop(columns=['index_right']).dropna()\n",
        "\n",
        "df2 = 100 * all_map[all_map.Speed > 50].groupby('name')['Speed'].sum() / all_map.groupby('name')['Speed'].sum()\n",
        "\n",
        "ax = df2.sort_values().plot.barh()\n",
        "\n",
        "ax.bar_label(ax.containers[0])\n",
        "\n",
        "plt.title(\"percentage of buses >50km/h by district\")\n",
        "plt.show()"
      ],
      "metadata": {
        "id": "8YLBXpKT6278",
        "cellView": "form"
      },
      "id": "8YLBXpKT6278",
      "execution_count": null,
      "outputs": []
    },
    {
      "cell_type": "code",
      "source": [],
      "metadata": {
        "id": "P0z4OLrCyrQV"
      },
      "id": "P0z4OLrCyrQV",
      "execution_count": null,
      "outputs": []
    }
  ],
  "metadata": {
    "kernelspec": {
      "display_name": "Python 3",
      "name": "python3"
    },
    "language_info": {
      "codemirror_mode": {
        "name": "ipython",
        "version": 2
      },
      "file_extension": ".py",
      "mimetype": "text/x-python",
      "name": "python",
      "nbconvert_exporter": "python",
      "pygments_lexer": "ipython2",
      "version": "2.7.6"
    },
    "colab": {
      "provenance": []
    }
  },
  "nbformat": 4,
  "nbformat_minor": 5
}