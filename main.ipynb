{
  "cells": [
    {
      "cell_type": "code",
      "outputs": [],
      "source": [
        "# @title Install dependencies\n",
        "!pip install jupyterlab-widgets geopandas geoplot"
      ],
      "metadata": {
        "cellView": "form",
        "id": "92650646205388c"
      },
      "id": "92650646205388c",
      "execution_count": null
    },
    {
      "cell_type": "code",
      "outputs": [],
      "source": [
        "# @title Select the whl file for the wawbus package\n",
        "from ipywidgets import FileUpload\n",
        "from IPython.display import display\n",
        "upload = FileUpload(accept='.whl', multiple=False)\n",
        "display(upload)"
      ],
      "metadata": {
        "cellView": "form",
        "id": "d74eb36082df3729"
      },
      "id": "d74eb36082df3729",
      "execution_count": null
    },
    {
      "cell_type": "code",
      "outputs": [],
      "source": [
        "# @title upload whl file\n",
        "for uploaded_filename in upload.value:\n",
        "  content = upload.value[uploaded_filename]['content']\n",
        "  with open(uploaded_filename, \"w+b\") as f:\n",
        "    f.write(content)"
      ],
      "metadata": {
        "cellView": "form",
        "id": "be888209f3911555"
      },
      "id": "be888209f3911555",
      "execution_count": null
    },
    {
      "cell_type": "code",
      "outputs": [],
      "source": [
        "# @title Install the wawbus package\n",
        "!pip install {list(upload.value.keys())[0]}"
      ],
      "metadata": {
        "cellView": "form",
        "id": "7482d89007f9883d"
      },
      "id": "7482d89007f9883d",
      "execution_count": null
    },
    {
      "cell_type": "code",
      "execution_count": null,
      "id": "initial_id",
      "metadata": {
        "collapsed": true,
        "id": "initial_id"
      },
      "outputs": [],
      "source": [
        "from wawbus import WawBus\n",
        "import numpy as np\n",
        "import pandas as pd\n",
        "import geopandas as gpd\n",
        "import geoplot.crs as gcrs\n",
        "import matplotlib.pyplot as plt\n",
        "import matplotlib as mpl\n",
        "import geoplot as gplt\n",
        "\n",
        "from ipywidgets import Dropdown, Text, VBox, IntSlider"
      ]
    },
    {
      "cell_type": "code",
      "outputs": [],
      "source": [
        "# @title Main api configuration\n",
        "dataset = Dropdown(options=['20240207-66k', 'None'], description='Prefetched dataset')\n",
        "api_key = Text(description='API key (optional)', placeholder='Enter your API key')\n",
        "collection = IntSlider(description='How many data points to collect. If zero, only the prefetched dataset will be used', min=0, step=1)\n",
        "display(VBox([dataset, api_key, collection]))"
      ],
      "metadata": {
        "cellView": "form",
        "id": "a30d4429b6a06858"
      },
      "id": "a30d4429b6a06858",
      "execution_count": null
    },
    {
      "cell_type": "code",
      "outputs": [],
      "source": [
        "api = WawBus(apikey=api_key.value, dataset=dataset.value if dataset.value != 'None' else None)"
      ],
      "metadata": {
        "id": "ce95ee460316b31c"
      },
      "id": "ce95ee460316b31c",
      "execution_count": null
    },
    {
      "cell_type": "code",
      "outputs": [],
      "source": [
        "if collection.value > 0:\n",
        "    api.collect_positions(collection.value)"
      ],
      "metadata": {
        "id": "f8ab4d96f12c677b"
      },
      "id": "f8ab4d96f12c677b",
      "execution_count": null
    },
    {
      "cell_type": "code",
      "outputs": [],
      "source": [
        "api.dataset.head()"
      ],
      "metadata": {
        "id": "a1f01aa6da2a27bc"
      },
      "id": "a1f01aa6da2a27bc",
      "execution_count": null
    },
    {
      "cell_type": "code",
      "outputs": [],
      "source": [
        "df = api.calculate_speed()\n",
        "df.head()"
      ],
      "metadata": {
        "id": "56d68b7d25b332c2"
      },
      "id": "56d68b7d25b332c2",
      "execution_count": null
    },
    {
      "cell_type": "code",
      "outputs": [],
      "source": [
        "gdf = gpd.GeoDataFrame(df, geometry=gpd.points_from_xy(df.Lon, df.Lat, crs='EPSG:4326'))\n",
        "gdf.head()"
      ],
      "metadata": {
        "id": "3642eafe2142236a"
      },
      "id": "3642eafe2142236a",
      "execution_count": null
    },
    {
      "cell_type": "code",
      "outputs": [],
      "source": [
        "speeding = gdf[(gdf.Speed > 50) & (gdf.Speed < 120)]"
      ],
      "metadata": {
        "id": "acc8ff29a8c0a41f"
      },
      "id": "acc8ff29a8c0a41f",
      "execution_count": null
    },
    {
      "cell_type": "code",
      "source": [
        "# @title first 3000 entries of >50km/h interactive map\n",
        "speeding.head(3000)[['Speed', 'geometry', 'VehicleNumber', 'Lines']].explore(\n",
        "    column='Speed',\n",
        "    style_kwds={\"style_function\":lambda x: {\"radius\":x[\"properties\"][\"Speed\"]/5 - 4}}\n",
        ")"
      ],
      "metadata": {
        "cellView": "form",
        "id": "DKFkAHNqkTxy"
      },
      "id": "DKFkAHNqkTxy",
      "execution_count": null,
      "outputs": []
    },
    {
      "cell_type": "code",
      "source": [
        "wawmap = gpd.read_file('https://raw.githubusercontent.com/C10udburst/wawbus-data/master/warszawa-dzielnice.geojson')"
      ],
      "metadata": {
        "id": "FgZOtuacqxi3"
      },
      "id": "FgZOtuacqxi3",
      "execution_count": null,
      "outputs": []
    },
    {
      "cell_type": "code",
      "outputs": [],
      "source": [
        "speed_map = gpd.sjoin(left_df=speeding, right_df=wawmap[['name', 'geometry']], how=\"left\", predicate=\"intersects\")\n",
        "speed_map = speed_map.drop(columns=['index_right'])\n",
        "speed_map.head()"
      ],
      "metadata": {
        "id": "22a6fbc3590f41b7"
      },
      "id": "22a6fbc3590f41b7",
      "execution_count": null
    },
    {
      "cell_type": "code",
      "outputs": [],
      "source": [
        "# @title >50km/h heatmap\n",
        "mpl.rcParams['figure.dpi'] = 200\n",
        "\n",
        "# we filter to only use entries within Warsaw\n",
        "speeding_warsaw = speed_map.dropna().geometry\n",
        "\n",
        "webmap = gplt.webmap(speeding_warsaw, projection=gcrs.WebMercator())\n",
        "ax = gplt.polyplot(wawmap, projection=gcrs.WebMercator(), zorder=1, ax=webmap)\n",
        "heatmap = gplt.kdeplot(speeding_warsaw, cmap='Reds', shade=True, ax=ax, projection=gcrs.WebMercator(), alpha=0.4)\n",
        "plt.show()"
      ],
      "metadata": {
        "cellView": "form",
        "id": "f644ce311410405f"
      },
      "id": "f644ce311410405f",
      "execution_count": null
    },
    {
      "cell_type": "code",
      "source": [
        "# @title >50 km/h per district\n",
        "speed_map.groupby('name')['Speed'].count()"
      ],
      "metadata": {
        "cellView": "form",
        "id": "sJ56K2PKrQJr"
      },
      "id": "sJ56K2PKrQJr",
      "execution_count": null,
      "outputs": []
    },
    {
      "cell_type": "code",
      "source": [],
      "metadata": {
        "id": "TukGYqo2rWYh"
      },
      "id": "TukGYqo2rWYh",
      "execution_count": null,
      "outputs": []
    }
  ],
  "metadata": {
    "kernelspec": {
      "display_name": "Python 3",
      "name": "python3"
    },
    "language_info": {
      "codemirror_mode": {
        "name": "ipython",
        "version": 2
      },
      "file_extension": ".py",
      "mimetype": "text/x-python",
      "name": "python",
      "nbconvert_exporter": "python",
      "pygments_lexer": "ipython2",
      "version": "2.7.6"
    },
    "colab": {
      "provenance": []
    }
  },
  "nbformat": 4,
  "nbformat_minor": 5
}