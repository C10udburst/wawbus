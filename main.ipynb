{
 "cells": [
  {
   "cell_type": "code",
   "outputs": [],
   "source": [
    "!pip install jupyterlab-widgets geopandas "
   ],
   "metadata": {
    "collapsed": false
   },
   "id": "92650646205388c"
  },
  {
   "cell_type": "code",
   "outputs": [
    {
     "data": {
      "text/plain": "FileUpload(value=(), accept='.whl', description='Upload')",
      "application/vnd.jupyter.widget-view+json": {
       "version_major": 2,
       "version_minor": 0,
       "model_id": "62560bee78334a6fad2e59e04868c80e"
      }
     },
     "metadata": {},
     "output_type": "display_data"
    }
   ],
   "source": [
    "# @title Select the whl file for the wawbus package\n",
    "from ipywidgets import FileUpload\n",
    "from IPython.display import display\n",
    "upload = FileUpload(accept='.whl', multiple=False)\n",
    "display(upload)"
   ],
   "metadata": {
    "collapsed": false,
    "ExecuteTime": {
     "end_time": "2024-02-07T22:11:12.763339517Z",
     "start_time": "2024-02-07T22:11:12.720989148Z"
    }
   },
   "id": "d74eb36082df3729",
   "execution_count": 19
  },
  {
   "cell_type": "code",
   "outputs": [],
   "source": [
    "!pip install {list(upload.value.keys())[0]}"
   ],
   "metadata": {
    "collapsed": false
   },
   "id": "7482d89007f9883d"
  },
  {
   "cell_type": "code",
   "execution_count": 12,
   "id": "initial_id",
   "metadata": {
    "collapsed": true,
    "ExecuteTime": {
     "end_time": "2024-02-07T22:08:57.300935615Z",
     "start_time": "2024-02-07T22:08:57.293475437Z"
    }
   },
   "outputs": [],
   "source": [
    "from wawbus import WawBus\n",
    "import numpy as np\n",
    "import pandas as pd\n",
    "import geopandas as gpd\n",
    "\n",
    "from ipywidgets import Dropdown, Text, VBox, IntSlider"
   ]
  },
  {
   "cell_type": "code",
   "outputs": [
    {
     "data": {
      "text/plain": "VBox(children=(Dropdown(description='Prefetched dataset', options=('20240207-66k', 'None'), value='20240207-66…",
      "application/vnd.jupyter.widget-view+json": {
       "version_major": 2,
       "version_minor": 0,
       "model_id": "9fe1a44671f841369aafe5f497c87666"
      }
     },
     "metadata": {},
     "output_type": "display_data"
    }
   ],
   "source": [
    "# @title Main api configuration\n",
    "dataset = Dropdown(options=['20240207-66k', 'None'], description='Prefetched dataset')\n",
    "api_key = Text(description='API key (optional)', placeholder='Enter your API key')\n",
    "collection = IntSlider(description='How many data points to collect. If zero, only the prefetched dataset will be used', min=0, step=1)\n",
    "display(VBox([dataset, api_key, collection]))"
   ],
   "metadata": {
    "collapsed": false,
    "ExecuteTime": {
     "end_time": "2024-02-07T22:08:57.726393998Z",
     "start_time": "2024-02-07T22:08:57.716734530Z"
    }
   },
   "id": "a30d4429b6a06858",
   "execution_count": 13
  },
  {
   "cell_type": "code",
   "outputs": [],
   "source": [
    "api = WawBus(apikey=api_key.value, dataset=dataset.value if dataset.value != 'None' else None)"
   ],
   "metadata": {
    "collapsed": false,
    "ExecuteTime": {
     "end_time": "2024-02-07T22:09:18.748378106Z",
     "start_time": "2024-02-07T22:09:17.021313738Z"
    }
   },
   "id": "ce95ee460316b31c",
   "execution_count": 14
  },
  {
   "cell_type": "code",
   "outputs": [
    {
     "ename": "ValueError",
     "evalue": "API key is required.",
     "output_type": "error",
     "traceback": [
      "\u001B[0;31m---------------------------------------------------------------------------\u001B[0m",
      "\u001B[0;31mValueError\u001B[0m                                Traceback (most recent call last)",
      "Cell \u001B[0;32mIn[18], line 2\u001B[0m\n\u001B[1;32m      1\u001B[0m \u001B[38;5;28;01mif\u001B[39;00m collection\u001B[38;5;241m.\u001B[39mvalue \u001B[38;5;241m>\u001B[39m \u001B[38;5;241m0\u001B[39m:\n\u001B[0;32m----> 2\u001B[0m     \u001B[43mapi\u001B[49m\u001B[38;5;241;43m.\u001B[39;49m\u001B[43mcollect_positions\u001B[49m\u001B[43m(\u001B[49m\u001B[43mcollection\u001B[49m\u001B[38;5;241;43m.\u001B[39;49m\u001B[43mvalue\u001B[49m\u001B[43m)\u001B[49m\n",
      "File \u001B[0;32m~/Dokumenty/wawbus/wawbus/main.py:41\u001B[0m, in \u001B[0;36mcollect_positions\u001B[0;34m(self, count, sleep_between)\u001B[0m\n\u001B[1;32m     40\u001B[0m \u001B[38;5;28;01mdef\u001B[39;00m \u001B[38;5;21mcollect_positions\u001B[39m(\u001B[38;5;28mself\u001B[39m, count: \u001B[38;5;28mint\u001B[39m, sleep_between: \u001B[38;5;28mint\u001B[39m \u001B[38;5;241m=\u001B[39m \u001B[38;5;241m10\u001B[39m):\n\u001B[0;32m---> 41\u001B[0m     \u001B[38;5;28;01mif\u001B[39;00m \u001B[38;5;129;01mnot\u001B[39;00m \u001B[38;5;28mself\u001B[39m\u001B[38;5;241m.\u001B[39mapi:\n\u001B[1;32m     42\u001B[0m         \u001B[38;5;28;01mraise\u001B[39;00m \u001B[38;5;167;01mValueError\u001B[39;00m(\u001B[38;5;124m\"\u001B[39m\u001B[38;5;124mAPI key is required.\u001B[39m\u001B[38;5;124m\"\u001B[39m)\n\u001B[1;32m     43\u001B[0m \u001B[38;5;250m    \u001B[39m\u001B[38;5;124;03m\"\"\"\u001B[39;00m\n\u001B[1;32m     44\u001B[0m \u001B[38;5;124;03m    Collect bus positions and append to dataset\u001B[39;00m\n\u001B[1;32m     45\u001B[0m \u001B[38;5;124;03m    :return: None\u001B[39;00m\n\u001B[1;32m     46\u001B[0m \u001B[38;5;124;03m    \"\"\"\u001B[39;00m\n",
      "\u001B[0;31mValueError\u001B[0m: API key is required."
     ]
    }
   ],
   "source": [
    "if collection.value > 0:\n",
    "    api.collect_positions(collection.value)"
   ],
   "metadata": {
    "collapsed": false,
    "ExecuteTime": {
     "end_time": "2024-02-07T22:10:52.632481193Z",
     "start_time": "2024-02-07T22:10:52.585628561Z"
    }
   },
   "id": "f8ab4d96f12c677b",
   "execution_count": 18
  },
  {
   "cell_type": "code",
   "outputs": [
    {
     "data": {
      "text/plain": "  Lines        Lon VehicleNumber                Time        Lat Brigade\n0   213  21.215783          1000 2024-02-07 18:08:33  52.160193       1\n1   219  21.151121          1001 2024-02-07 18:08:47  52.186415       2\n2   225  21.115344          1002 2024-02-07 17:39:55  52.234625     503\n3   219  21.166092          1003 2024-02-07 18:08:46  52.204143       1\n4   213  21.102482          1004 2024-02-07 18:08:52  52.222826       3",
      "text/html": "<div>\n<style scoped>\n    .dataframe tbody tr th:only-of-type {\n        vertical-align: middle;\n    }\n\n    .dataframe tbody tr th {\n        vertical-align: top;\n    }\n\n    .dataframe thead th {\n        text-align: right;\n    }\n</style>\n<table border=\"1\" class=\"dataframe\">\n  <thead>\n    <tr style=\"text-align: right;\">\n      <th></th>\n      <th>Lines</th>\n      <th>Lon</th>\n      <th>VehicleNumber</th>\n      <th>Time</th>\n      <th>Lat</th>\n      <th>Brigade</th>\n    </tr>\n  </thead>\n  <tbody>\n    <tr>\n      <th>0</th>\n      <td>213</td>\n      <td>21.215783</td>\n      <td>1000</td>\n      <td>2024-02-07 18:08:33</td>\n      <td>52.160193</td>\n      <td>1</td>\n    </tr>\n    <tr>\n      <th>1</th>\n      <td>219</td>\n      <td>21.151121</td>\n      <td>1001</td>\n      <td>2024-02-07 18:08:47</td>\n      <td>52.186415</td>\n      <td>2</td>\n    </tr>\n    <tr>\n      <th>2</th>\n      <td>225</td>\n      <td>21.115344</td>\n      <td>1002</td>\n      <td>2024-02-07 17:39:55</td>\n      <td>52.234625</td>\n      <td>503</td>\n    </tr>\n    <tr>\n      <th>3</th>\n      <td>219</td>\n      <td>21.166092</td>\n      <td>1003</td>\n      <td>2024-02-07 18:08:46</td>\n      <td>52.204143</td>\n      <td>1</td>\n    </tr>\n    <tr>\n      <th>4</th>\n      <td>213</td>\n      <td>21.102482</td>\n      <td>1004</td>\n      <td>2024-02-07 18:08:52</td>\n      <td>52.222826</td>\n      <td>3</td>\n    </tr>\n  </tbody>\n</table>\n</div>"
     },
     "execution_count": 16,
     "metadata": {},
     "output_type": "execute_result"
    }
   ],
   "source": [
    "api.dataset.head()"
   ],
   "metadata": {
    "collapsed": false,
    "ExecuteTime": {
     "end_time": "2024-02-07T22:09:44.842663517Z",
     "start_time": "2024-02-07T22:09:44.800582167Z"
    }
   },
   "id": "a1f01aa6da2a27bc",
   "execution_count": 16
  },
  {
   "cell_type": "code",
   "outputs": [
    {
     "data": {
      "text/plain": "  Lines        Lon VehicleNumber                Time        Lat Brigade  \\\n0   213  21.215783          1000 2024-02-07 18:08:33  52.160193       1   \n1   219  21.151121          1001 2024-02-07 18:08:47  52.186415       2   \n2   225  21.115344          1002 2024-02-07 17:39:55  52.234625     503   \n3   219  21.166092          1003 2024-02-07 18:08:46  52.204143       1   \n4   213  21.102482          1004 2024-02-07 18:08:52  52.222826       3   \n\n       Speed  \n0  28.259437  \n1  42.389216  \n2        NaN  \n3   7.906190  \n4   0.354967  ",
      "text/html": "<div>\n<style scoped>\n    .dataframe tbody tr th:only-of-type {\n        vertical-align: middle;\n    }\n\n    .dataframe tbody tr th {\n        vertical-align: top;\n    }\n\n    .dataframe thead th {\n        text-align: right;\n    }\n</style>\n<table border=\"1\" class=\"dataframe\">\n  <thead>\n    <tr style=\"text-align: right;\">\n      <th></th>\n      <th>Lines</th>\n      <th>Lon</th>\n      <th>VehicleNumber</th>\n      <th>Time</th>\n      <th>Lat</th>\n      <th>Brigade</th>\n      <th>Speed</th>\n    </tr>\n  </thead>\n  <tbody>\n    <tr>\n      <th>0</th>\n      <td>213</td>\n      <td>21.215783</td>\n      <td>1000</td>\n      <td>2024-02-07 18:08:33</td>\n      <td>52.160193</td>\n      <td>1</td>\n      <td>28.259437</td>\n    </tr>\n    <tr>\n      <th>1</th>\n      <td>219</td>\n      <td>21.151121</td>\n      <td>1001</td>\n      <td>2024-02-07 18:08:47</td>\n      <td>52.186415</td>\n      <td>2</td>\n      <td>42.389216</td>\n    </tr>\n    <tr>\n      <th>2</th>\n      <td>225</td>\n      <td>21.115344</td>\n      <td>1002</td>\n      <td>2024-02-07 17:39:55</td>\n      <td>52.234625</td>\n      <td>503</td>\n      <td>NaN</td>\n    </tr>\n    <tr>\n      <th>3</th>\n      <td>219</td>\n      <td>21.166092</td>\n      <td>1003</td>\n      <td>2024-02-07 18:08:46</td>\n      <td>52.204143</td>\n      <td>1</td>\n      <td>7.906190</td>\n    </tr>\n    <tr>\n      <th>4</th>\n      <td>213</td>\n      <td>21.102482</td>\n      <td>1004</td>\n      <td>2024-02-07 18:08:52</td>\n      <td>52.222826</td>\n      <td>3</td>\n      <td>0.354967</td>\n    </tr>\n  </tbody>\n</table>\n</div>"
     },
     "execution_count": 17,
     "metadata": {},
     "output_type": "execute_result"
    }
   ],
   "source": [
    "df = api.calculate_speed()\n",
    "df.head()"
   ],
   "metadata": {
    "collapsed": false,
    "ExecuteTime": {
     "end_time": "2024-02-07T22:10:21.538524417Z",
     "start_time": "2024-02-07T22:10:19.900365437Z"
    }
   },
   "id": "56d68b7d25b332c2",
   "execution_count": 17
  },
  {
   "cell_type": "code",
   "outputs": [],
   "source": [],
   "metadata": {
    "collapsed": false
   },
   "id": "3642eafe2142236a"
  }
 ],
 "metadata": {
  "kernelspec": {
   "display_name": "Python 3",
   "language": "python",
   "name": "python3"
  },
  "language_info": {
   "codemirror_mode": {
    "name": "ipython",
    "version": 2
   },
   "file_extension": ".py",
   "mimetype": "text/x-python",
   "name": "python",
   "nbconvert_exporter": "python",
   "pygments_lexer": "ipython2",
   "version": "2.7.6"
  }
 },
 "nbformat": 4,
 "nbformat_minor": 5
}
